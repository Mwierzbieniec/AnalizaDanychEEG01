{
 "cells": [
  {
   "cell_type": "code",
   "execution_count": 1,
   "metadata": {
    "collapsed": true
   },
   "outputs": [],
   "source": [
    "# importujemy bibliotekę numpy - do obliczeń na wektorach/macierzach\n",
    "import numpy as np"
   ]
  },
  {
   "cell_type": "markdown",
   "metadata": {},
   "source": [
    "tutaj dorzucę jeszcze kod do ściągania danych z GitHub'a\n",
    "na razie dane pojawiają się w sposób magiczny ;)"
   ]
  },
  {
   "cell_type": "code",
   "execution_count": 2,
   "metadata": {
    "collapsed": true
   },
   "outputs": [],
   "source": [
    "# informacje z GitHub'a:\n",
    "num_voters = 7.\n",
    "vote_text = '''\n",
    "2c - 4 + 4\n",
    "3a - 5 + 5 + 4\n",
    "3b - 5 + 5\n",
    "4a - 3 + 3 + 5\n",
    "4b - 5 + 5 + 5 + 5 + 5 + 5\n",
    "4c - 5 + 5 + 2 + 5\n",
    "5a - 5 + 5 + 5 + 5 + 1 + 3 + 5\n",
    "5c - 5 + 5 + 2 + 5 + 4 + 3 + 5\n",
    "'''"
   ]
  },
  {
   "cell_type": "code",
   "execution_count": 3,
   "metadata": {
    "collapsed": false
   },
   "outputs": [
    {
     "data": {
      "text/plain": [
       "['2c - 4 + 4',\n",
       " '3a - 5 + 5 + 4',\n",
       " '3b - 5 + 5',\n",
       " '4a - 3 + 3 + 5',\n",
       " '4b - 5 + 5 + 5 + 5 + 5 + 5',\n",
       " '4c - 5 + 5 + 2 + 5',\n",
       " '5a - 5 + 5 + 5 + 5 + 1 + 3 + 5',\n",
       " '5c - 5 + 5 + 2 + 5 + 4 + 3 + 5']"
      ]
     },
     "execution_count": 3,
     "metadata": {},
     "output_type": "execute_result"
    }
   ],
   "source": [
    "# rozdzielamy vote_text na linijki\n",
    "vote_lines = vote_text.split('\\n')[1:-1]\n",
    "vote_lines"
   ]
  },
  {
   "cell_type": "code",
   "execution_count": 5,
   "metadata": {
    "collapsed": false
   },
   "outputs": [
    {
     "name": "stdout",
     "output_type": "stream",
     "text": [
      "2c 1.14285714286\n",
      "3a 2.0\n",
      "3b 1.42857142857\n",
      "4a 1.57142857143\n",
      "4b 4.28571428571\n",
      "4c 2.42857142857\n",
      "5a 4.14285714286\n",
      "5c 4.14285714286\n",
      "\n",
      "Najlepszy termin:\n",
      "4b\n"
     ]
    }
   ],
   "source": [
    "# dla każdej linijki sumujemy głosy i dzielimy przez liczbę głosujących\n",
    "# sprawdzamy też, który termin uzyskał najwięcej głosów\n",
    "max_votes = 0\n",
    "best_termin = ''\n",
    "for line in vote_lines:\n",
    "    termin, votes = line.split(' - ')\n",
    "    mean_votes = np.fromstring(votes, sep='+').sum() / num_voters\n",
    "    print termin, mean_votes\n",
    "    if mean_votes > max_votes:\n",
    "        max_votes, best_termin = mean_votes, termin\n",
    "print \"\\nNajlepszy termin:\"\n",
    "print best_termin"
   ]
  }
 ],
 "metadata": {
  "kernelspec": {
   "display_name": "Python 2",
   "language": "python",
   "name": "python2"
  },
  "language_info": {
   "codemirror_mode": {
    "name": "ipython",
    "version": 2
   },
   "file_extension": ".py",
   "mimetype": "text/x-python",
   "name": "python",
   "nbconvert_exporter": "python",
   "pygments_lexer": "ipython2",
   "version": "2.7.7"
  }
 },
 "nbformat": 4,
 "nbformat_minor": 0
}
